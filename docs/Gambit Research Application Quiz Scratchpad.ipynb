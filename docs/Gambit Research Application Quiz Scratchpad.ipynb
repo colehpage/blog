{
 "cells": [
  {
   "cell_type": "markdown",
   "metadata": {},
   "source": [
    "# Gambit Research Job Application Quiz Details:"
   ]
  },
  {
   "cell_type": "code",
   "execution_count": 1,
   "metadata": {
    "collapsed": true
   },
   "outputs": [],
   "source": [
    "# The cipher below contains instructions on how to apply for a job\n",
    "# 110 95 246 146 105 182 70 61 249 148 97 252 135 110 255 146 91 254 143 105 248 153 26 240 149 108 170 153 105 246 156 99 248 141 26 254 142 95 170 109 91 247 136 99 254 70 93 242 135 102 246 139 104 241 139 40 170 118 102 239 135 109 239 70 109 239 148 94 170 159 105 255 152 26 253 149 102 255 154 99 249 148 26 235 148 94 170 105 80 170 154 105 170 143 93 235 148 93 249 138 95 202 141 91 247 136 99 254 152 95 253 139 91 252 137 98 184 137 105 247 70 107 255 149 110 243 148 97 170 152 95 240 139 108 239 148 93 239 96 26 240 140 50 189 87 96 238 88 49 188 84"
   ]
  },
  {
   "cell_type": "code",
   "execution_count": 2,
   "metadata": {
    "collapsed": true
   },
   "outputs": [],
   "source": [
    "# The cipher text seems to contain 150 ascii characters\n",
    "# Let's make it a list\n",
    "ciphertext = [110, 95, 246, 146, 105, 182, 70, 61, 249, 148, 97, 252,\n",
    "              135, 110, 255, 146, 91, 254, 143, 105, 248, 153, 26, 240,\n",
    "              149, 108, 170, 153, 105, 246, 156, 99, 248, 141, 26, 254,\n",
    "              142, 95, 170, 109, 91, 247, 136, 99, 254, 70, 93, 242, 135,\n",
    "              102, 246, 139, 104, 241, 139, 40, 170, 118, 102, 239, 135,\n",
    "              109, 239, 70, 109, 239, 148, 94, 170, 159, 105, 255, 152,\n",
    "              26, 253, 149, 102, 255, 154, 99, 249, 148, 26, 235, 148,\n",
    "              94, 170, 105, 80, 170, 154, 105, 170, 143, 93, 235, 148,\n",
    "              93, 249, 138, 95, 202, 141, 91, 247, 136, 99, 254, 152, 95,\n",
    "              253, 139, 91, 252, 137, 98, 184, 137, 105, 247, 70, 107,\n",
    "              255, 149, 110, 243, 148, 97, 170, 152, 95, 240, 139, 108,\n",
    "              239, 148, 93, 239, 96, 26, 240, 140, 50, 189, 87, 96, 238,\n",
    "              88, 49, 188, 84]"
   ]
  },
  {
   "cell_type": "markdown",
   "metadata": {},
   "source": [
    "### With some very simple webpage inspection snooping we find a \"hidden\" javascript function for what looks like a simple ascii character scramble cipher:"
   ]
  },
  {
   "cell_type": "markdown",
   "metadata": {},
   "source": [
    "\n",
    "    function scramble(ascii,a,b,c) {\n",
    "        for(i=0; i<ascii.length; i++) {\n",
    "            if (i%3==0) {ascii[i]=(ascii[i]+a)%256;}\n",
    "            if (i%3==1) {ascii[i]=(ascii[i]+b)%256;}\n",
    "            if (i%3==2) {ascii[i]=(ascii[i]+c)%256;}\n",
    "        }\n",
    "        return ascii;\n",
    "    }\n"
   ]
  },
  {
   "cell_type": "markdown",
   "metadata": {},
   "source": [
    "### Looks like a pretty easy cipher to reverse engineer below..."
   ]
  },
  {
   "cell_type": "markdown",
   "metadata": {},
   "source": [
    "# Exploration:"
   ]
  },
  {
   "cell_type": "code",
   "execution_count": 3,
   "metadata": {
    "collapsed": false
   },
   "outputs": [
    {
     "data": {
      "text/plain": [
       "0"
      ]
     },
     "execution_count": 3,
     "metadata": {},
     "output_type": "execute_result"
    }
   ],
   "source": [
    "# So the last character uses a\n",
    "ciphertext[-1]%3"
   ]
  },
  {
   "cell_type": "code",
   "execution_count": 4,
   "metadata": {
    "collapsed": false
   },
   "outputs": [
    {
     "name": "stdout",
     "output_type": "stream",
     "text": [
      "a =  38\n"
     ]
    }
   ],
   "source": [
    "# Defifinitly a stretch but have to start somewhere so assume this is a sentence:\n",
    "# Thus last character should be a '.' with an ascii value of 46\n",
    "a = ciphertext[-1] - ord('.')\n",
    "print('a = ', a)"
   ]
  },
  {
   "cell_type": "code",
   "execution_count": 5,
   "metadata": {
    "collapsed": false
   },
   "outputs": [
    {
     "name": "stdout",
     "output_type": "stream",
     "text": [
      "H__l__ __n__a__l__i__s__o__s__v__g__h__G__b__ __a__e__e__P__a__ __n__y__r__o__t__n__n__C__t__i__n__d__g__b__r__e__c__c__ __o__n__r__e__n__:__f__1__2__.\n"
     ]
    }
   ],
   "source": [
    "# Let's see what we have so far\n",
    "test = \"\"\n",
    "for i in range(0,len(ciphertext)):\n",
    "    if i%3 == 0:\n",
    "        test += chr(ciphertext[i]-a)\n",
    "    elif i%3 == 1:\n",
    "        test += '_'\n",
    "    elif i%3 == 2:\n",
    "        test += '_'\n",
    "print(test)"
   ]
  },
  {
   "cell_type": "code",
   "execution_count": 6,
   "metadata": {
    "collapsed": false
   },
   "outputs": [
    {
     "name": "stdout",
     "output_type": "stream",
     "text": [
      "b =  -6\n"
     ]
    }
   ],
   "source": [
    "# Time for another assumption:\n",
    "# I'm going to go ahead and guess that the character following the colon is a space per usual\n",
    "# So solving for b:\n",
    "b = ciphertext[139] - ord(' ')\n",
    "print('b = ', b)"
   ]
  },
  {
   "cell_type": "code",
   "execution_count": 7,
   "metadata": {
    "collapsed": false
   },
   "outputs": [
    {
     "name": "stdout",
     "output_type": "stream",
     "text": [
      "He_lo_ C_ng_at_la_io_s _or_so_vi_g _he_Ga_bi_ c_al_en_e._Pl_as_ s_nd_yo_r _ol_ti_n _nd_CV_to_ic_nc_de_ga_bi_re_ea_ch_co_ q_ot_ng_re_er_nc_: _f8_1f_27_.\n"
     ]
    }
   ],
   "source": [
    "# Check solution again with a and c included\n",
    "test = \"\"\n",
    "for i in range(0,len(ciphertext)):\n",
    "    if i%3 == 0:\n",
    "        test += chr(ciphertext[i]-a)\n",
    "    elif i%3 == 1:\n",
    "        test += chr(ciphertext[i]-b)\n",
    "    elif i%3 == 2:\n",
    "        test += '_'\n",
    "print(test)"
   ]
  },
  {
   "cell_type": "code",
   "execution_count": 8,
   "metadata": {
    "collapsed": false
   },
   "outputs": [
    {
     "name": "stdout",
     "output_type": "stream",
     "text": [
      "c =  138\n"
     ]
    }
   ],
   "source": [
    "# Look at that! Looks like we're 2 for 2 on assumptions.\n",
    "# To find C theres about a dozen simple leaps you could make, but with just a little\n",
    "# childhood hangman experience I can pretty confidently say the first word is 'Hello,'\n",
    "# Let's try the 3rd character being 'l':\n",
    "c = ciphertext[2] - ord('l')\n",
    "print('c = ', c)"
   ]
  },
  {
   "cell_type": "code",
   "execution_count": 9,
   "metadata": {
    "collapsed": false
   },
   "outputs": [
    {
     "name": "stdout",
     "output_type": "stream",
     "text": [
      "Hello, Congratulations for solving the Gambit challenge. Please send your solution and CV to icancode@gambitresearch.com quoting reference: ff831fd272.\n"
     ]
    }
   ],
   "source": [
    "# Check solution a final time with a, b, and c:\n",
    "test = \"\"\n",
    "for i in range(0,len(ciphertext)):\n",
    "    if i%3 == 0:\n",
    "        test += chr(ciphertext[i]-a)\n",
    "    elif i%3 == 1:\n",
    "        test += chr(ciphertext[i]-b)\n",
    "    elif i%3 == 2:\n",
    "        test += chr(ciphertext[i]-c)\n",
    "print(test)"
   ]
  },
  {
   "cell_type": "markdown",
   "metadata": {},
   "source": [
    "### Looks like we have a solution and it only took some basic html inspection and a few simple assumptions!"
   ]
  },
  {
   "cell_type": "markdown",
   "metadata": {},
   "source": [
    "---"
   ]
  }
 ],
 "metadata": {
  "kernelspec": {
   "display_name": "Python 3",
   "language": "python",
   "name": "python3"
  },
  "language_info": {
   "codemirror_mode": {
    "name": "ipython",
    "version": 3
   },
   "file_extension": ".py",
   "mimetype": "text/x-python",
   "name": "python",
   "nbconvert_exporter": "python",
   "pygments_lexer": "ipython3",
   "version": "3.6.2"
  }
 },
 "nbformat": 4,
 "nbformat_minor": 2
}
